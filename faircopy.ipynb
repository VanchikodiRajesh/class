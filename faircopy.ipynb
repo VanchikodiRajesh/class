{
 "cells": [
  {
   "cell_type": "markdown",
   "id": "235e37d6",
   "metadata": {},
   "source": [
    "from multifunctions import multiple\n",
    "multiple.subfields()\n",
    "multiple.check()\n",
    "multiple.eligible()\n",
    "multiple.percentage()\n",
    "multiple.area_of_triangle()\n",
    "multiple.triangle()\n",
    "\n",
    "\n"
   ]
  },
  {
   "cell_type": "markdown",
   "id": "ad1f7733",
   "metadata": {},
   "source": [
    "#### "
   ]
  },
  {
   "cell_type": "code",
   "execution_count": 1,
   "id": "34360fe2",
   "metadata": {},
   "outputs": [
    {
     "name": "stdout",
     "output_type": "stream",
     "text": [
      "SUB- FIELDS IN AI are:\n",
      "Machine Learning\n",
      "Nueral Network\n",
      "Vision\n",
      "Robotics\n",
      "Speech Processing\n",
      "Natural Language processing\n",
      "enter the number89\n",
      "the given number is odd number\n",
      "enter the age18\n",
      "enter the gendermale\n",
      "your age= 18\n",
      "your gender male\n",
      "not eligible\n",
      "enter your tamil mark78\n",
      "enter your english mark89\n",
      "enter your maths mark78\n",
      "enter your science mark89\n",
      "enter your social  mark67\n",
      "------------------------\n",
      "MARKSHEET\n",
      "------------------------\n",
      "TAMIL     =  78\n",
      "ENGLISH   =  89\n",
      "MATHS     =  78\n",
      "SCIENCE   =  89\n",
      "SOCIAL    =  67\n",
      "------------------------\n",
      "TOTAL     =  401\n",
      "AVERAGE   =  80.2\n",
      "------------------------\n",
      "enter the height32\n",
      "enter the breath34\n",
      "--------------------------\n",
      "AREA OF TRIANGLE\n",
      "--------------------------\n",
      " height             =  32.0\n",
      "breadth              = 34.0\n",
      "Area of the triangle =  544.0\n",
      "-----------------------------\n",
      "enter the number h13\n",
      "enter the  h23\n",
      "enter the breadth6\n",
      "--------------------------\n",
      "PERIMETER OF TRIANGLE\n",
      "--------------------------\n",
      " height1                 =  3\n",
      " height2                 =  3\n",
      "breadth                   = 6\n",
      "PERIMETER OF THE TRIANGLE =  12\n",
      "-----------------------------\n"
     ]
    }
   ],
   "source": [
    "from multifunctions import multiple\n",
    "multiple.subfields()\n",
    "multiple.check()\n",
    "multiple.eligible()\n",
    "multiple.percentage()\n",
    "multiple.area_of_triangle()\n",
    "multiple.triangle()\n",
    "\n",
    "\n"
   ]
  },
  {
   "cell_type": "code",
   "execution_count": null,
   "id": "194b1145",
   "metadata": {},
   "outputs": [],
   "source": []
  },
  {
   "cell_type": "code",
   "execution_count": null,
   "id": "24f5ab10",
   "metadata": {},
   "outputs": [],
   "source": []
  },
  {
   "cell_type": "code",
   "execution_count": null,
   "id": "8621de82",
   "metadata": {},
   "outputs": [],
   "source": []
  },
  {
   "cell_type": "code",
   "execution_count": null,
   "id": "e5972df8",
   "metadata": {},
   "outputs": [],
   "source": []
  }
 ],
 "metadata": {
  "kernelspec": {
   "display_name": "Python 3 (ipykernel)",
   "language": "python",
   "name": "python3"
  },
  "language_info": {
   "codemirror_mode": {
    "name": "ipython",
    "version": 3
   },
   "file_extension": ".py",
   "mimetype": "text/x-python",
   "name": "python",
   "nbconvert_exporter": "python",
   "pygments_lexer": "ipython3",
   "version": "3.11.5"
  }
 },
 "nbformat": 4,
 "nbformat_minor": 5
}
