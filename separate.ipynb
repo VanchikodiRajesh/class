{
 "cells": [
  {
   "cell_type": "markdown",
   "id": "235e37d6",
   "metadata": {},
   "source": [
    "from multifunctions import multiple\n",
    "multiple.subfields()\n",
    "\n",
    "\n"
   ]
  },
  {
   "cell_type": "markdown",
   "id": "ad1f7733",
   "metadata": {},
   "source": [
    "#### "
   ]
  },
  {
   "cell_type": "code",
   "execution_count": 2,
   "id": "34360fe2",
   "metadata": {},
   "outputs": [
    {
     "name": "stdout",
     "output_type": "stream",
     "text": [
      "SUB- FIELDS IN AI are:\n",
      "Machine Learning\n",
      "Nueral Network\n",
      "Vision\n",
      "Robotics\n",
      "Speech Processing\n",
      "Natural Language processing\n"
     ]
    }
   ],
   "source": [
    "from multifunctions import multiple\n",
    "multiple.subfields()\n",
    "\n"
   ]
  },
  {
   "cell_type": "code",
   "execution_count": 3,
   "id": "37a19f48",
   "metadata": {},
   "outputs": [
    {
     "name": "stdout",
     "output_type": "stream",
     "text": [
      "enter the number56\n",
      "the given number is even number\n"
     ]
    }
   ],
   "source": [
    "from multifunctions import multiple\n",
    "multiple.check()\n",
    "\n"
   ]
  },
  {
   "cell_type": "code",
   "execution_count": 4,
   "id": "194b1145",
   "metadata": {},
   "outputs": [
    {
     "name": "stdout",
     "output_type": "stream",
     "text": [
      "enter the age19\n",
      "enter the gendermale\n",
      "your age= 19\n",
      "your gender male\n",
      "not eligible\n"
     ]
    }
   ],
   "source": [
    "from multifunctions import multiple\n",
    "multiple.eligible()\n",
    "\n"
   ]
  },
  {
   "cell_type": "code",
   "execution_count": 5,
   "id": "24f5ab10",
   "metadata": {},
   "outputs": [
    {
     "name": "stdout",
     "output_type": "stream",
     "text": [
      "enter your tamil mark78\n",
      "enter your english mark89\n",
      "enter your maths mark89\n",
      "enter your science mark90\n",
      "enter your social  mark89\n",
      "------------------------\n",
      "MARKSHEET\n",
      "------------------------\n",
      "TAMIL     =  78\n",
      "ENGLISH   =  89\n",
      "MATHS     =  89\n",
      "SCIENCE   =  90\n",
      "SOCIAL    =  89\n",
      "------------------------\n",
      "TOTAL     =  435\n",
      "AVERAGE   =  87.0\n",
      "------------------------\n"
     ]
    }
   ],
   "source": [
    "from multifunctions import multiple\n",
    "multiple.percentage()\n",
    "\n",
    "\n"
   ]
  },
  {
   "cell_type": "code",
   "execution_count": 6,
   "id": "8621de82",
   "metadata": {},
   "outputs": [
    {
     "name": "stdout",
     "output_type": "stream",
     "text": [
      "enter the height32\n",
      "enter the breath34\n",
      "--------------------------\n",
      "AREA OF TRIANGLE\n",
      "--------------------------\n",
      " height             =  32.0\n",
      "breadth              = 34.0\n",
      "Area of the triangle =  544.0\n",
      "-----------------------------\n"
     ]
    }
   ],
   "source": [
    "from multifunctions import multiple\n",
    "multiple.area_of_triangle()\n",
    "\n",
    "\n",
    "\n"
   ]
  },
  {
   "cell_type": "code",
   "execution_count": 7,
   "id": "e5972df8",
   "metadata": {},
   "outputs": [
    {
     "name": "stdout",
     "output_type": "stream",
     "text": [
      "enter the number h12\n",
      "enter the  h23\n",
      "enter the breadth6\n",
      "--------------------------\n",
      "PERIMETER OF TRIANGLE\n",
      "--------------------------\n",
      " height1                 =  2\n",
      " height2                 =  3\n",
      "breadth                   = 6\n",
      "PERIMETER OF THE TRIANGLE =  11\n",
      "-----------------------------\n"
     ]
    }
   ],
   "source": [
    "from multifunctions import multiple\n",
    "multiple.triangle()\n",
    "\n",
    "\n"
   ]
  },
  {
   "cell_type": "code",
   "execution_count": null,
   "id": "feaf0c9f",
   "metadata": {},
   "outputs": [],
   "source": []
  }
 ],
 "metadata": {
  "kernelspec": {
   "display_name": "Python 3 (ipykernel)",
   "language": "python",
   "name": "python3"
  },
  "language_info": {
   "codemirror_mode": {
    "name": "ipython",
    "version": 3
   },
   "file_extension": ".py",
   "mimetype": "text/x-python",
   "name": "python",
   "nbconvert_exporter": "python",
   "pygments_lexer": "ipython3",
   "version": "3.11.5"
  }
 },
 "nbformat": 4,
 "nbformat_minor": 5
}
